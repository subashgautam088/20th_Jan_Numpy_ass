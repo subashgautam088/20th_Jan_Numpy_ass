{
 "cells": [
  {
   "cell_type": "markdown",
   "id": "9139a553-1267-419e-bd2b-94ae0bcff92a",
   "metadata": {},
   "source": [
    "Numpy Assignment"
   ]
  },
  {
   "cell_type": "markdown",
   "id": "30d5300a-2555-4c5f-adda-edbe610629c2",
   "metadata": {},
   "source": [
    "##  1. What is a Python library? Why do we use Python libraries?\n",
    "-->  A Python library is a collection of pre-written code and functions that developers can use to perform specific tasks without having to write the code from scratch. These libraries often contain modules that provide functionalities such as mathematical operations, data manipulation, web development, machine learning algorithms, and much more.. Some popular Python libraries include NumPy for numerical computing, Pandas for data analysis, Matplotlib for data visualization, TensorFlow for machine learning, and Flask for web development.\n",
    "Libraries provide pre-written code for common tasks, saving developers time and effort. Libraries offer a wide range of functionalities, covering various domains such as mathematics, data analysis, machine learning, web development, and more.Many Python libraries are designed to handle large datasets and complex computations efficiently.Python has a vibrant and active community of developers who contribute to the development and maintenance of libraries."
   ]
  },
  {
   "cell_type": "markdown",
   "id": "b5e851a5-1b2c-410f-ae2b-fecf90bc23fd",
   "metadata": {},
   "source": [
    "##  2. What is the difference between Numpy array and List?\n",
    "--> NumPy arrays are more memory-efficient compared to Python lists. NumPy arrays store homogeneous data types, which means all elements in the array must have the same data type.\n",
    "-->  NumPy arrays offer better performance for numerical computations compared to Python lists.\n",
    "-->  NumPy arrays provide a wide range of mathematical functions and operations for array manipulation, such as element-wise operations, linear algebra operations, Fourier transforms, and more.\n",
    "-->  NumPy arrays support advanced indexing and slicing operations, allowing you to access and manipulate elements of the array efficiently.\n",
    "-->  NumPy arrays support vectorized operations, which allow you to perform operations on entire arrays without using explicit loops."
   ]
  },
  {
   "cell_type": "code",
   "execution_count": 2,
   "id": "e51c4b85-72ae-46b3-8d2f-8d025b924c15",
   "metadata": {},
   "outputs": [
    {
     "name": "stdout",
     "output_type": "stream",
     "text": [
      "Array : [[ 1  2  3  4]\n",
      " [ 5  6  7  8]\n",
      " [ 9 10 11 12]]\n",
      "The shape of array : (3, 4)\n",
      "The size of the array : 12\n",
      "The dimension of the array : 2\n"
     ]
    }
   ],
   "source": [
    "##  3. Find the shape, size an^d dimension of the following array?\n",
    "\n",
    "'''[[1, 2, 3, 4]\n",
    "\n",
    "[5, 6, 7, 8],\n",
    "\n",
    "[9, 10, 11, 12]]'''\n",
    "import numpy as np\n",
    "arr1 = np.array([[1,2,3,4],[5,6,7,8],[9,10,11,12]])\n",
    "print(\"Array :\",arr1)\n",
    "print(\"The shape of array :\",arr1.shape)\n",
    "print(\"The size of the array :\",arr1.size)\n",
    "print(\"The dimension of the array :\",arr1.ndim)\n"
   ]
  },
  {
   "cell_type": "code",
   "execution_count": 3,
   "id": "bf9baf21-be8a-4e35-9757-2c80acb86c0f",
   "metadata": {},
   "outputs": [
    {
     "name": "stdout",
     "output_type": "stream",
     "text": [
      "Array : [[ 1  2  3  4]\n",
      " [ 5  6  7  8]\n",
      " [ 9 10 11 12]]\n",
      "The access of the first row of the array : [1 2 3 4]\n"
     ]
    }
   ],
   "source": [
    "##  4. Write python co^e to access the first row of the following array?\n",
    "\n",
    "'''[[1, 2, 3, 4]\n",
    "\n",
    "[5, 6, 7, 8],\n",
    "\n",
    "[9, 10, 11, 12]]'''\n",
    "import numpy as np\n",
    "arr2 = np.array([[1,2,3,4],[5,6,7,8],[9,10,11,12]])\n",
    "print(\"Array :\",arr2)\n",
    "print(\"The access of the first row of the array :\",arr2[0])"
   ]
  },
  {
   "cell_type": "code",
   "execution_count": 5,
   "id": "a993a8c9-45ed-4d2f-b0a4-af8ab303794b",
   "metadata": {},
   "outputs": [
    {
     "name": "stdout",
     "output_type": "stream",
     "text": [
      "Array :\n",
      "The element at the third row and fourth column is : 12\n"
     ]
    }
   ],
   "source": [
    "##  5. How do you access the element at the third row and fourth column from the given numpy array?\n",
    "\n",
    "'''[[1, 2, 3, 4]\n",
    "\n",
    "[5, 6, 7, 8],\n",
    "\n",
    "[9, 10, 11, 12]]'''\n",
    "import numpy as np\n",
    "arr2 = np.array([[1,2,3,4],[5,6,7,8],[9,10,11,12]])\n",
    "print(\"Array :\",)\n",
    "print(\"The element at the third row and fourth column is :\",arr2[2,3])"
   ]
  },
  {
   "cell_type": "code",
   "execution_count": 6,
   "id": "bc99b390-615a-4413-864e-db82c3759467",
   "metadata": {},
   "outputs": [
    {
     "name": "stdout",
     "output_type": "stream",
     "text": [
      "Array : [[ 1  2  3  4]\n",
      " [ 5  6  7  8]\n",
      " [ 9 10 11 12]]\n",
      "Odd indexed elements are : [[ 2  4]\n",
      " [ 6  8]\n",
      " [10 12]]\n"
     ]
    }
   ],
   "source": [
    "##  6. Write code to extract all odd-indexed elements from the given numpy array?\n",
    "\n",
    "'''[[1, 2, 3, 4]\n",
    "\n",
    "[5, 6, 7, 8],\n",
    "\n",
    "[9, 10, 11, 12]]'''\n",
    "import numpy as np\n",
    "arr3 = np.array([[1,2,3,4],[5,6,7,8],[9,10,11,12]])\n",
    "print(\"Array :\",arr3)\n",
    "print(\"Odd indexed elements are :\",arr3[: ,1::2])\n"
   ]
  },
  {
   "cell_type": "code",
   "execution_count": 17,
   "id": "0f84eb8c-9fb3-46a3-9f95-a98cb3ca39d5",
   "metadata": {},
   "outputs": [
    {
     "name": "stdout",
     "output_type": "stream",
     "text": [
      "Random matrix of 3 * 3 size with values between 0 and 1\n",
      "[[0.66898234 0.90350519 0.87524041]\n",
      " [0.19420414 0.23970719 0.35998525]\n",
      " [0.34856409 0.61612486 0.06930543]]\n"
     ]
    }
   ],
   "source": [
    "##  7. How can you generate a random 3x3 matrix with values between 0 and 1?\n",
    "import numpy as np\n",
    "import random\n",
    "random_matrix = np.random.rand(3,3)\n",
    "print(\"Random matrix of 3 * 3 size with values between 0 and 1\")\n",
    "print(random_matrix)"
   ]
  },
  {
   "cell_type": "markdown",
   "id": "dcb0016d-adcd-4878-9906-618ced60c215",
   "metadata": {},
   "source": [
    "##  8. Describe the difference between np.random.rand and np.random.randn?\n",
    "--> np.random.rand generates random numbers from a uniform distribution within a specified range \"[0.0,1.0)\", while np.random.randn generates random numbers from a standard normal distribution with mean 0 and standard deviation 1."
   ]
  },
  {
   "cell_type": "code",
   "execution_count": 20,
   "id": "83843899-e3a2-4d4a-8a81-c0b2c7b49f9f",
   "metadata": {},
   "outputs": [
    {
     "name": "stdout",
     "output_type": "stream",
     "text": [
      "Object `array` not found.\n",
      "The dimension can inrease by using .expand_dims() function and arr4 dimension is increases :\n",
      "[[[ 1  2  3  4]\n",
      "  [ 5  6  7  8]\n",
      "  [ 9 10 11 12]]]\n",
      "Arr4 dimension change from 2D to 3D \n"
     ]
    }
   ],
   "source": [
    "9. Write code to increase the dimension of the following array?\n",
    "\n",
    "'''[[1, 2, 3, 4]\n",
    "\n",
    "[5, 6, 7, 8],\n",
    "\n",
    "[9, 10, 11, 12]]'''\n",
    "import numpy as np\n",
    "arr4 = np.array([[1,2,3,4],[5,6,7,8],[9,10,11,12]])\n",
    "increase_dims = np.expand_dims(arr4,axis = 0)\n",
    "print(\"The dimension can inrease by using .expand_dims() function and arr4 dimension is increases :\")\n",
    "print(increase_dims)\n",
    "print(\"Arr4 dimension change from 2D to 3D \")\n"
   ]
  },
  {
   "cell_type": "code",
   "execution_count": 22,
   "id": "4a066431-abe5-4b7c-8a31-2d045e106560",
   "metadata": {},
   "outputs": [
    {
     "name": "stdout",
     "output_type": "stream",
     "text": [
      "Original matrix :\n",
      "[[ 1  2  3  4]\n",
      " [ 5  6  7  8]\n",
      " [ 9 10 11 12]]\n",
      "The transpose of the matrix is :\n",
      "[[ 1  5  9]\n",
      " [ 2  6 10]\n",
      " [ 3  7 11]\n",
      " [ 4  8 12]]\n"
     ]
    }
   ],
   "source": [
    "##  10. How to transpose the following array in NumPy?\n",
    "\n",
    "'''[[1, 2, 3, 4]\n",
    "\n",
    "[5, 6, 7, 8],\n",
    "\n",
    "[9, 10, 11, 12]]'''\n",
    "import numpy as np\n",
    "arr5 = np.array([[1,2,3,4],[5,6,7,8],[9,10,11,12]])\n",
    "print(\"Original matrix :\")\n",
    "print(arr5)\n",
    "print(\"The transpose of the matrix is :\")\n",
    "print(arr5.T)"
   ]
  },
  {
   "cell_type": "code",
   "execution_count": 33,
   "id": "2d4d46d6-3d79-410b-82ef-72790570522c",
   "metadata": {},
   "outputs": [
    {
     "name": "stdout",
     "output_type": "stream",
     "text": [
      "Array 6 :\n",
      "[[ 1  2  3  4]\n",
      " [ 5  6  7  8]\n",
      " [ 9 10 11 12]]\n",
      "Array 7 :\n",
      "[[ 1  2  3  4]\n",
      " [ 5  6  7  8]\n",
      " [ 9 10 11 12]]\n",
      "Index wise multiplication :\n",
      "[[  1   4   9  16]\n",
      " [ 25  36  49  64]\n",
      " [ 81 100 121 144]]\n",
      "The matrix multiplication of array6 and array 8 is possible when arr7 should be transpose then :\n",
      "[[ 30  70 110]\n",
      " [ 70 174 278]\n",
      " [110 278 446]]\n",
      "The addition of both matrix is :\n",
      "[[ 2  4  6  8]\n",
      " [10 12 14 16]\n",
      " [18 20 22 24]]\n",
      "Subtraction of the matrix B from A is :\n",
      "[[0 0 0 0]\n",
      " [0 0 0 0]\n",
      " [0 0 0 0]]\n",
      "The division of the matrix B by A is :\n",
      "[[1. 1. 1. 1.]\n",
      " [1. 1. 1. 1.]\n",
      " [1. 1. 1. 1.]]\n"
     ]
    }
   ],
   "source": [
    "##  11. Consider the following matrix:\n",
    "\n",
    "'''Matrix A2 [[1, 2, 3, 4], [5, 6, 7, 8],[9, 10, 11, 12]]\n",
    "\n",
    "Matrix B2 [[1, 2, 3, 4], [5, 6, 7, 8],[9, 10, 11, 12]'''\n",
    "arr6 = np.array([[1, 2, 3, 4],[5, 6, 7, 8],[9, 10, 11, 12]])\n",
    "arr7 = np.asarray([[1, 2, 3, 4],[5, 6, 7, 8],[9, 10, 11, 12]])\n",
    "print(\"Array 6 :\")\n",
    "print(arr6)\n",
    "print(\"Array 7 :\")\n",
    "print(arr7)\n",
    "# Perform the following operation using Python:\n",
    "#  1 Index wise multiplication\n",
    "print(\"Index wise multiplication :\")\n",
    "print(arr6 * arr7 )\n",
    "\n",
    "#  2 Matrix multiplication\n",
    "print(\"The matrix multiplication of array6 and array 8 is possible when arr7 should be transpose then :\")\n",
    "arr8 = arr7.T\n",
    "print(arr6 @ arr8)\n",
    "\n",
    "#  3 Add both the matrix\n",
    "print(\"The addition of both matrix is :\")\n",
    "print(arr6 + arr7)\n",
    "\n",
    "#  4 Subtract matrix B from matrix A \n",
    "print(\"Subtraction of the matrix B from A is :\")\n",
    "print(arr7 - arr6)\n",
    "\n",
    "\n",
    "#  5 Divide Matrix B by A\n",
    "print(\"The division of the matrix B by A is :\")\n",
    "print(arr7 / arr6)\n"
   ]
  },
  {
   "cell_type": "markdown",
   "id": "046b1f54-9ff7-416b-8513-cbc78fb7dbd4",
   "metadata": {},
   "source": [
    "##  12.  Which function in Numpy can be used to swap the byte order of an array?\n",
    "-->  In NumPy, the function used to swap the byte order of an array is np.ndarray.byteswap(). This method swaps the byte order of the elements in the array in-place."
   ]
  },
  {
   "cell_type": "markdown",
   "id": "f78a0435-91aa-4afa-98eb-82dddf609754",
   "metadata": {},
   "source": [
    "##  13.  What is the significance of the np.linalg.inv function?\n",
    "--> The np.linalg.inv function in NumPy is used to compute the inverse of a square matrix. The significance of this function lies in various mathematical and computational applications."
   ]
  },
  {
   "cell_type": "code",
   "execution_count": 2,
   "id": "2cf56627-cc7a-4973-a972-99c7bad85071",
   "metadata": {},
   "outputs": [
    {
     "name": "stdout",
     "output_type": "stream",
     "text": [
      "Original array:\n",
      "[ 0  1  2  3  4  5  6  7  8  9 10 11]\n",
      "\n",
      "Reshaped array:\n",
      "[[ 0  1  2  3]\n",
      " [ 4  5  6  7]\n",
      " [ 8  9 10 11]]\n"
     ]
    }
   ],
   "source": [
    "##  14. What does the np.reshape function do, and how is it used?\n",
    "'''The np.reshape function in NumPy is used to change the shape (dimensions)\n",
    "of an array without changing its data. It allows you to rearrange the elements\n",
    "of the array into a new shape while maintaining the same total number of \n",
    "elements.'''\n",
    "import numpy as np\n",
    "\n",
    "# Create a 1D array with 12 elements\n",
    "arr = np.arange(12)\n",
    "\n",
    "# Reshape the array into a 3x4 matrix\n",
    "reshaped_arr = np.reshape(arr, (3, 4))\n",
    "\n",
    "print(\"Original array:\")\n",
    "print(arr)\n",
    "print(\"\\nReshaped array:\")\n",
    "print(reshaped_arr)"
   ]
  },
  {
   "cell_type": "code",
   "execution_count": null,
   "id": "d358189b-0ceb-43a0-8ff3-66f9b8f7e7e0",
   "metadata": {},
   "outputs": [],
   "source": [
    "##  15. What is broadcasting in Numpy?\n"
   ]
  }
 ],
 "metadata": {
  "kernelspec": {
   "display_name": "Python 3 (ipykernel)",
   "language": "python",
   "name": "python3"
  },
  "language_info": {
   "codemirror_mode": {
    "name": "ipython",
    "version": 3
   },
   "file_extension": ".py",
   "mimetype": "text/x-python",
   "name": "python",
   "nbconvert_exporter": "python",
   "pygments_lexer": "ipython3",
   "version": "3.10.8"
  }
 },
 "nbformat": 4,
 "nbformat_minor": 5
}
